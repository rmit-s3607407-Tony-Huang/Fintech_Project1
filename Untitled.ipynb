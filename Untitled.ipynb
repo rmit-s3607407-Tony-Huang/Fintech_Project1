{
 "cells": [
  {
   "cell_type": "code",
   "execution_count": 2,
   "id": "4ad29209-46f3-45be-8453-54bba7885019",
   "metadata": {},
   "outputs": [
    {
     "name": "stdout",
     "output_type": "stream",
     "text": [
      "[*********************100%***********************]  4 of 4 completed\n"
     ]
    }
   ],
   "source": [
    "import yfinance as yf\n",
    "import pandas as pd\n",
    "import numpy as np\n",
    "\n",
    "from bokeh.layouts import row \n",
    "from bokeh.plotting import figure, show \n",
    "from bokeh.palettes import Category10_4\n",
    "\n",
    "tickers = [\"AAPL\", \"GOOG\", \"IBM\", \"MSFT\"]\n",
    "data = yf.download(tickers)\n",
    "data = data.dropna()['Adj Close']\n",
    "data.reset_index(inplace=True)\n",
    "# print(data.head())\n",
    "\n",
    "p1 = figure(x_axis_type=\"datetime\", title=\"Adjust Close Stock Prices\")\n",
    "p1.grid.grid_line_alpha=0.3\n",
    "p1.xaxis.axis_label = \"Date\"\n",
    "p1.yaxis.axis_label = \"Price\"\n",
    "\n",
    "for i, tick in enumerate(tickers):\n",
    "\tp1.line(data['Date'], data[tick], color = Category10_4[i], legend_label=tick)\n",
    "p1.legend.location = \"top_left\"\n",
    "\n",
    "window_size = 30\n",
    "window = np.ones(window_size)/float(window_size)\n",
    "mv_avg = np.convolve(data['GOOG'], window, 'same')\n",
    "\n",
    "p2 = figure(x_axis_type=\"datetime\", title = \"GOOG 30 Day MV\")\n",
    "p2.grid.grid_line_alpha = 0\n",
    "p2.xaxis.axis_label = \"Date\"\n",
    "p2.yaxis.axis_label = \"Price\"\n",
    "p2.ygrid.band_fill_color = \"blue\"\n",
    "p2.ygrid.band_fill_alpha = 0.1\n",
    "\n",
    "p2.circle(data['Date'], data['GOOG'], size=4, \n",
    "\tlegend_label = \"Adj Close\", \n",
    "\tcolor=\"firebrick\", alpha=0.2)\n",
    "p2.line(data['Date'], mv_avg, legend_label=\"Moving Avg\", color=\"navy\")\n",
    "p2.legend.location = \"top_left\"\n",
    "\n",
    "show(row(p1, p2))"
   ]
  },
  {
   "cell_type": "code",
   "execution_count": null,
   "id": "0c67be8a-d6cb-4614-84f2-33e733221e9c",
   "metadata": {},
   "outputs": [],
   "source": []
  }
 ],
 "metadata": {
  "kernelspec": {
   "display_name": "Python 3",
   "language": "python",
   "name": "python3"
  },
  "language_info": {
   "codemirror_mode": {
    "name": "ipython",
    "version": 3
   },
   "file_extension": ".py",
   "mimetype": "text/x-python",
   "name": "python",
   "nbconvert_exporter": "python",
   "pygments_lexer": "ipython3",
   "version": "3.7.10"
  }
 },
 "nbformat": 4,
 "nbformat_minor": 5
}
