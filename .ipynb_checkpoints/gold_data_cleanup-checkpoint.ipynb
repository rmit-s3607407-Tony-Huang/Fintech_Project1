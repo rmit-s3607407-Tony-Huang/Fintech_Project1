{
 "cells": [
  {
   "cell_type": "code",
   "execution_count": 1,
   "id": "de686af9",
   "metadata": {},
   "outputs": [],
   "source": [
    "import pandas as pd\n",
    "from pathlib import Path"
   ]
  },
  {
   "cell_type": "code",
   "execution_count": 2,
   "id": "d628e77e",
   "metadata": {},
   "outputs": [],
   "source": [
    "csv_path = Path(\"gold_data.csv\")"
   ]
  },
  {
   "cell_type": "code",
   "execution_count": 3,
   "id": "7e41313d",
   "metadata": {},
   "outputs": [],
   "source": [
    "gold_data = pd.read_csv(csv_path, index_col = \"Date\")\n",
    "gold_data = gold_data.sort_index(ascending=True)"
   ]
  },
  {
   "cell_type": "code",
   "execution_count": 4,
   "id": "8d4b053a",
   "metadata": {},
   "outputs": [
    {
     "data": {
      "text/html": [
       "<div>\n",
       "<style scoped>\n",
       "    .dataframe tbody tr th:only-of-type {\n",
       "        vertical-align: middle;\n",
       "    }\n",
       "\n",
       "    .dataframe tbody tr th {\n",
       "        vertical-align: top;\n",
       "    }\n",
       "\n",
       "    .dataframe thead th {\n",
       "        text-align: right;\n",
       "    }\n",
       "</style>\n",
       "<table border=\"1\" class=\"dataframe\">\n",
       "  <thead>\n",
       "    <tr style=\"text-align: right;\">\n",
       "      <th></th>\n",
       "      <th>Open</th>\n",
       "      <th>High</th>\n",
       "      <th>Low</th>\n",
       "      <th>Close</th>\n",
       "      <th>Volume</th>\n",
       "      <th>Open Interest</th>\n",
       "    </tr>\n",
       "    <tr>\n",
       "      <th>Date</th>\n",
       "      <th></th>\n",
       "      <th></th>\n",
       "      <th></th>\n",
       "      <th></th>\n",
       "      <th></th>\n",
       "      <th></th>\n",
       "    </tr>\n",
       "  </thead>\n",
       "  <tbody>\n",
       "    <tr>\n",
       "      <th>2016/01/04 00:00:00</th>\n",
       "      <td>1061.5</td>\n",
       "      <td>1083.0</td>\n",
       "      <td>1061.0</td>\n",
       "      <td>1075.2</td>\n",
       "      <td>151233.0</td>\n",
       "      <td>0</td>\n",
       "    </tr>\n",
       "    <tr>\n",
       "      <th>2016/01/05 00:00:00</th>\n",
       "      <td>1073.5</td>\n",
       "      <td>1081.5</td>\n",
       "      <td>1071.9</td>\n",
       "      <td>1078.4</td>\n",
       "      <td>99250.0</td>\n",
       "      <td>0</td>\n",
       "    </tr>\n",
       "    <tr>\n",
       "      <th>2016/01/06 00:00:00</th>\n",
       "      <td>1076.8</td>\n",
       "      <td>1094.9</td>\n",
       "      <td>1074.4</td>\n",
       "      <td>1091.9</td>\n",
       "      <td>179581.0</td>\n",
       "      <td>0</td>\n",
       "    </tr>\n",
       "    <tr>\n",
       "      <th>2016/01/07 00:00:00</th>\n",
       "      <td>1093.7</td>\n",
       "      <td>1109.9</td>\n",
       "      <td>1091.1</td>\n",
       "      <td>1107.8</td>\n",
       "      <td>203063.0</td>\n",
       "      <td>0</td>\n",
       "    </tr>\n",
       "    <tr>\n",
       "      <th>2016/01/08 00:00:00</th>\n",
       "      <td>1108.8</td>\n",
       "      <td>1113.1</td>\n",
       "      <td>1091.8</td>\n",
       "      <td>1097.9</td>\n",
       "      <td>183436.0</td>\n",
       "      <td>0</td>\n",
       "    </tr>\n",
       "  </tbody>\n",
       "</table>\n",
       "</div>"
      ],
      "text/plain": [
       "                       Open    High     Low   Close    Volume  Open Interest\n",
       "Date                                                                        \n",
       "2016/01/04 00:00:00  1061.5  1083.0  1061.0  1075.2  151233.0              0\n",
       "2016/01/05 00:00:00  1073.5  1081.5  1071.9  1078.4   99250.0              0\n",
       "2016/01/06 00:00:00  1076.8  1094.9  1074.4  1091.9  179581.0              0\n",
       "2016/01/07 00:00:00  1093.7  1109.9  1091.1  1107.8  203063.0              0\n",
       "2016/01/08 00:00:00  1108.8  1113.1  1091.8  1097.9  183436.0              0"
      ]
     },
     "execution_count": 4,
     "metadata": {},
     "output_type": "execute_result"
    }
   ],
   "source": [
    "gold_data.head()"
   ]
  },
  {
   "cell_type": "code",
   "execution_count": 5,
   "id": "18d5cca1",
   "metadata": {},
   "outputs": [],
   "source": [
    "gold_data['Volume'] = gold_data['Volume'].fillna(0)"
   ]
  },
  {
   "cell_type": "code",
   "execution_count": 6,
   "id": "036a7952",
   "metadata": {},
   "outputs": [
    {
     "data": {
      "text/plain": [
       "False"
      ]
     },
     "execution_count": 6,
     "metadata": {},
     "output_type": "execute_result"
    }
   ],
   "source": [
    "gold_data['Volume'].isnull().values.any()"
   ]
  },
  {
   "cell_type": "code",
   "execution_count": 7,
   "id": "b93aa875",
   "metadata": {},
   "outputs": [],
   "source": [
    "gold_data.to_csv('gold_data_for_backtrader.csv')"
   ]
  }
 ],
 "metadata": {
  "kernelspec": {
   "display_name": "Python 3",
   "language": "python",
   "name": "python3"
  },
  "language_info": {
   "codemirror_mode": {
    "name": "ipython",
    "version": 3
   },
   "file_extension": ".py",
   "mimetype": "text/x-python",
   "name": "python",
   "nbconvert_exporter": "python",
   "pygments_lexer": "ipython3",
   "version": "3.7.10"
  }
 },
 "nbformat": 4,
 "nbformat_minor": 5
}
