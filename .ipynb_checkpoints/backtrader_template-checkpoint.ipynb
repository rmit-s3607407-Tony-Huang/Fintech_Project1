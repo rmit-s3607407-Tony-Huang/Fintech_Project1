{
 "cells": [
  {
   "cell_type": "code",
   "execution_count": 1,
   "id": "02cc4504",
   "metadata": {},
   "outputs": [],
   "source": [
    "# Import backtrader library\n",
    "import backtrader as bt\n",
    "from pathlib import Path\n",
    "import matplotlib.pyplot as plt\n",
    "from matplotlib import warnings\n",
    "# %matplotlib widget"
   ]
  },
  {
   "cell_type": "code",
   "execution_count": 2,
   "id": "e01d355a",
   "metadata": {},
   "outputs": [],
   "source": [
    "class MaCrossStrategy(bt.Strategy):\n",
    "    def __init__(self):\n",
    "        ma_fast = bt.ind.SMA(period = 10)\n",
    "        ma_slow = bt.ind.SMA(period = 50)\n",
    "         \n",
    "        self.crossover = bt.ind.CrossOver(ma_fast, ma_slow)\n",
    " \n",
    "    def next(self):\n",
    "        if not self.position:\n",
    "            if self.crossover > 0: \n",
    "                self.buy()\n",
    "        elif self.crossover < 0: \n",
    "            self.close()"
   ]
  },
  {
   "cell_type": "code",
   "execution_count": 3,
   "id": "146133dc",
   "metadata": {},
   "outputs": [],
   "source": [
    "file_path = Path(\"SP500_Data1.csv\")"
   ]
  },
  {
   "cell_type": "code",
   "execution_count": 4,
   "id": "bb5181bf",
   "metadata": {},
   "outputs": [],
   "source": [
    "cerebro = bt.Cerebro(maxcpus = None)\n",
    "cerebro.broker.setcash(1000.0)\n",
    "data = bt.feeds.GenericCSVData(dataname=file_path, timeframe=bt.TimeFrame.Days, openinterest=-1)\n",
    "cerebro.adddata(data)\n",
    "cerebro.addstrategy(MaCrossStrategy)\n",
    "\n",
    "cerebro.addsizer(bt.sizers.PercentSizer, percents=10)\n",
    "cerebro.addanalyzer(bt.analyzers.SharpeRatio, _name = \"sharpe\")\n",
    "cerebro.addanalyzer(bt.analyzers.Transactions, _name = \"trans\")\n",
    "cerebro.addanalyzer(bt.analyzers.TradeAnalyzer,_name=\"TradeAnalyzer\")"
   ]
  },
  {
   "cell_type": "code",
   "execution_count": 5,
   "id": "0dc0efe7",
   "metadata": {},
   "outputs": [],
   "source": [
    "back = cerebro.run()"
   ]
  },
  {
   "cell_type": "code",
   "execution_count": 6,
   "id": "b09c8fe2",
   "metadata": {},
   "outputs": [
    {
     "data": {
      "text/plain": [
       "1044.7061548986649"
      ]
     },
     "execution_count": 6,
     "metadata": {},
     "output_type": "execute_result"
    }
   ],
   "source": [
    "cerebro.broker.getvalue()"
   ]
  },
  {
   "cell_type": "code",
   "execution_count": 7,
   "id": "7fdb8c2a",
   "metadata": {},
   "outputs": [
    {
     "data": {
      "text/plain": [
       "OrderedDict([('sharperatio', 0.09681767344819223)])"
      ]
     },
     "execution_count": 7,
     "metadata": {},
     "output_type": "execute_result"
    }
   ],
   "source": [
    "back[0].analyzers.sharpe.get_analysis()"
   ]
  },
  {
   "cell_type": "code",
   "execution_count": 8,
   "id": "7d95a790",
   "metadata": {},
   "outputs": [
    {
     "data": {
      "text/plain": [
       "OrderedDict([(datetime.datetime(2016, 4, 13, 23, 59, 59, 999989),\n",
       "              [[0.047688310325342625,\n",
       "                2093.939941,\n",
       "                0,\n",
       "                'SP500_Data1',\n",
       "                -99.85645770903763]]),\n",
       "             (datetime.datetime(2016, 5, 1, 23, 59, 59, 999989),\n",
       "              [[-0.047688310325342625,\n",
       "                2031.449951,\n",
       "                0,\n",
       "                'SP500_Data1',\n",
       "                96.87641567369008]]),\n",
       "             (datetime.datetime(2016, 5, 11, 23, 59, 59, 999989),\n",
       "              [[0.046651631090703916,\n",
       "                2139.5,\n",
       "                0,\n",
       "                'SP500_Data1',\n",
       "                -99.81116471856103]]),\n",
       "             (datetime.datetime(2016, 6, 26, 23, 59, 59, 999989),\n",
       "              [[-0.046651631090703916,\n",
       "                2125.360107,\n",
       "                0,\n",
       "                'SP500_Data1',\n",
       "                99.151515646663]]),\n",
       "             (datetime.datetime(2016, 8, 10, 23, 59, 59, 999989),\n",
       "              [[0.0457688469087974,\n",
       "                2178.610107,\n",
       "                0,\n",
       "                'SP500_Data1',\n",
       "                -99.71247246124172]]),\n",
       "             (datetime.datetime(2016, 11, 20, 23, 59, 59, 999989),\n",
       "              [[-0.0457688469087974,\n",
       "                2342.530029,\n",
       "                0,\n",
       "                'SP500_Data1',\n",
       "                107.21489827656174]]),\n",
       "             (datetime.datetime(2016, 11, 29, 23, 59, 59, 999989),\n",
       "              [[0.04210480477054898,\n",
       "                2388.5,\n",
       "                0,\n",
       "                'SP500_Data1',\n",
       "                -100.56732619445624]]),\n",
       "             (datetime.datetime(2017, 2, 17, 23, 59, 59, 999989),\n",
       "              [[-0.04210480477054898,\n",
       "                2444.879883,\n",
       "                0,\n",
       "                'SP500_Data1',\n",
       "                102.94119016115764]]),\n",
       "             (datetime.datetime(2017, 2, 26, 23, 59, 59, 999989),\n",
       "              [[0.040939705781632904,\n",
       "                2463.830078,\n",
       "                0,\n",
       "                'SP500_Data1',\n",
       "                -100.86847848925764]]),\n",
       "             (datetime.datetime(2017, 6, 16, 23, 59, 59, 999989),\n",
       "              [[-0.040939705781632904,\n",
       "                2646.27002,\n",
       "                0,\n",
       "                'SP500_Data1',\n",
       "                108.33751603755582]]),\n",
       "             (datetime.datetime(2017, 7, 9, 23, 59, 59, 999989),\n",
       "              [[0.03683509989206304,\n",
       "                2741.379883,\n",
       "                0,\n",
       "                'SP500_Data1',\n",
       "                -100.97900183239709]]),\n",
       "             (datetime.datetime(2017, 7, 11, 23, 59, 59, 999989),\n",
       "              [[-0.03683509989206304,\n",
       "                2714.98999,\n",
       "                0,\n",
       "                'SP500_Data1',\n",
       "                100.00692748760123]]),\n",
       "             (datetime.datetime(2017, 8, 18, 23, 59, 59, 999989),\n",
       "              [[0.03709470264343018,\n",
       "                2718.590088,\n",
       "                0,\n",
       "                'SP500_Data1',\n",
       "                -100.84529092373667]]),\n",
       "             (datetime.datetime(2017, 12, 1, 23, 59, 59, 999989),\n",
       "              [[-0.03709470264343018,\n",
       "                2770.540039,\n",
       "                0,\n",
       "                'SP500_Data1',\n",
       "                102.77235890842245]]),\n",
       "             (datetime.datetime(2018, 2, 9, 23, 59, 59, 999989),\n",
       "              [[0.038400222527496204,\n",
       "                2657.439941,\n",
       "                0,\n",
       "                'SP500_Data1',\n",
       "                -102.04628508785639]]),\n",
       "             (datetime.datetime(2018, 4, 29, 23, 59, 59, 999989),\n",
       "              [[-0.038400222527496204,\n",
       "                2841.939941,\n",
       "                0,\n",
       "                'SP500_Data1',\n",
       "                109.13112614417943]]),\n",
       "             (datetime.datetime(2018, 5, 20, 23, 59, 59, 999989),\n",
       "              [[0.035018266503959804,\n",
       "                2920.550049,\n",
       "                0,\n",
       "                'SP500_Data1',\n",
       "                -102.27259995403486]]),\n",
       "             (datetime.datetime(2018, 6, 27, 23, 59, 59, 999989),\n",
       "              [[-0.035018266503959804,\n",
       "                2880.719971,\n",
       "                0,\n",
       "                'SP500_Data1',\n",
       "                100.87781966775735]]),\n",
       "             (datetime.datetime(2018, 7, 18, 23, 59, 59, 999989),\n",
       "              [[0.034001150101928126,\n",
       "                3009.080078,\n",
       "                0,\n",
       "                'SP500_Data1',\n",
       "                -102.3121834007996]]),\n",
       "             (datetime.datetime(2018, 8, 7, 23, 59, 59, 999989),\n",
       "              [[-0.034001150101928126,\n",
       "                2918.550049,\n",
       "                0,\n",
       "                'SP500_Data1',\n",
       "                99.23405829603868]]),\n",
       "             (datetime.datetime(2018, 8, 12, 23, 59, 59, 999989),\n",
       "              [[0.03402602228336723,\n",
       "                3000.77002,\n",
       "                0,\n",
       "                'SP500_Data1',\n",
       "                -102.10426756778033]]),\n",
       "             (datetime.datetime(2018, 11, 11, 23, 59, 59, 999989),\n",
       "              [[-0.03402602228336723,\n",
       "                2916.899902,\n",
       "                0,\n",
       "                'SP500_Data1',\n",
       "                99.25050106380368]]),\n",
       "             (datetime.datetime(2018, 12, 22, 23, 59, 59, 999989),\n",
       "              [[0.03524147487814982,\n",
       "                2909.959961,\n",
       "                0,\n",
       "                'SP500_Data1',\n",
       "                -102.55128086200332]]),\n",
       "             (datetime.datetime(2019, 4, 5, 23, 59, 59, 999989),\n",
       "              [[-0.03524147487814982,\n",
       "                3226.139893,\n",
       "                0,\n",
       "                'SP500_Data1',\n",
       "                113.69392799255644]]),\n",
       "             (datetime.datetime(2019, 4, 17, 23, 59, 59, 999989),\n",
       "              [[0.02949439705372317,\n",
       "                3500.02002,\n",
       "                0,\n",
       "                'SP500_Data1',\n",
       "                -103.2309801658601]]),\n",
       "             (datetime.datetime(2019, 5, 2, 23, 59, 59, 999989),\n",
       "              [[-0.02949439705372317,\n",
       "                3296.199951,\n",
       "                0,\n",
       "                'SP500_Data1',\n",
       "                97.21943012325686]]),\n",
       "             (datetime.datetime(2019, 5, 9, 23, 59, 59, 999989),\n",
       "              [[0.028755923311127085,\n",
       "                3563.219971,\n",
       "                0,\n",
       "                'SP500_Data1',\n",
       "                -102.46368022675247]]),\n",
       "             (datetime.datetime(2019, 12, 13, 23, 59, 59, 999989),\n",
       "              [[-0.028755923311127085,\n",
       "                4438.040039,\n",
       "                0,\n",
       "                'SP500_Data1',\n",
       "                127.61993901319548]])])"
      ]
     },
     "execution_count": 8,
     "metadata": {},
     "output_type": "execute_result"
    }
   ],
   "source": [
    "back[0].analyzers.trans.get_analysis()"
   ]
  },
  {
   "cell_type": "code",
   "execution_count": 9,
   "id": "82efee5b",
   "metadata": {},
   "outputs": [],
   "source": [
    "# %matplotlib inline\n",
    "# cerebro.plot()"
   ]
  },
  {
   "cell_type": "code",
   "execution_count": 10,
   "id": "d3b0f8c7",
   "metadata": {},
   "outputs": [
    {
     "data": {
      "text/plain": [
       "7"
      ]
     },
     "execution_count": 10,
     "metadata": {},
     "output_type": "execute_result"
    }
   ],
   "source": [
    "wins = back[0].analyzers.TradeAnalyzer.get_analysis()['won']['total']\n",
    "wins"
   ]
  },
  {
   "cell_type": "code",
   "execution_count": 11,
   "id": "18cdbafc",
   "metadata": {},
   "outputs": [
    {
     "data": {
      "text/plain": [
       "7"
      ]
     },
     "execution_count": 11,
     "metadata": {},
     "output_type": "execute_result"
    }
   ],
   "source": [
    "losses = back[0].analyzers.TradeAnalyzer.get_analysis()['lost']['total']\n",
    "losses"
   ]
  },
  {
   "cell_type": "code",
   "execution_count": 12,
   "id": "62521eed-ec98-4036-85eb-630229e39c03",
   "metadata": {},
   "outputs": [
    {
     "name": "stdout",
     "output_type": "stream",
     "text": [
      "AutoOrderedDict([('total', AutoOrderedDict([('total', 14), ('open', 0), ('closed', 14)])), ('streak', AutoOrderedDict([('won', AutoOrderedDict([('current', 1), ('longest', 3)])), ('lost', AutoOrderedDict([('current', 0), ('longest', 3)]))])), ('pnl', AutoOrderedDict([('gross', AutoOrderedDict([('total', 44.70615489866477), ('average', 3.193296778476055)])), ('net', AutoOrderedDict([('total', 44.70615489866477), ('average', 3.193296778476055)]))])), ('won', AutoOrderedDict([('total', 7), ('pnl', AutoOrderedDict([('total', 62.65614228832452), ('average', 8.950877469760645), ('max', 25.156258786442994)]))])), ('lost', AutoOrderedDict([('total', 7), ('pnl', AutoOrderedDict([('total', -17.94998738965974), ('average', -2.564283912808534), ('max', -6.0115500426032495)]))])), ('long', AutoOrderedDict([('total', 14), ('pnl', AutoOrderedDict([('total', 44.70615489866477), ('average', 3.193296778476055), ('won', AutoOrderedDict([('total', 62.65614228832452), ('average', 8.950877469760645), ('max', 25.156258786442994)])), ('lost', AutoOrderedDict([('total', -17.94998738965974), ('average', -2.564283912808534), ('max', -6.0115500426032495)]))])), ('won', 7), ('lost', 7)])), ('short', AutoOrderedDict([('total', 0), ('pnl', AutoOrderedDict([('total', 0.0), ('average', 0.0), ('won', AutoOrderedDict([('total', 0.0), ('average', 0.0), ('max', 0.0)])), ('lost', AutoOrderedDict([('total', 0.0), ('average', 0.0), ('max', 0.0)]))])), ('won', 0), ('lost', 0)])), ('len', AutoOrderedDict([('total', 1028), ('average', 73.42857142857143), ('max', 218), ('min', 2), ('won', AutoOrderedDict([('total', 798), ('average', 114.0), ('max', 218), ('min', 79)])), ('lost', AutoOrderedDict([('total', 230), ('average', 32.857142857142854), ('max', 91), ('min', 2)])), ('long', AutoOrderedDict([('total', 1028), ('average', 73.42857142857143), ('max', 218), ('min', 2), ('won', AutoOrderedDict([('total', 798), ('average', 114.0), ('max', 218), ('min', 79)])), ('lost', AutoOrderedDict([('total', 230), ('average', 32.857142857142854), ('max', 91), ('min', 2)]))])), ('short', AutoOrderedDict([('total', 0), ('average', 0.0), ('max', 0), ('min', 9223372036854775807), ('won', AutoOrderedDict([('total', 0), ('average', 0.0), ('max', 0), ('min', 9223372036854775807)])), ('lost', AutoOrderedDict([('total', 0), ('average', 0.0), ('max', 0), ('min', 9223372036854775807)]))]))]))])\n"
     ]
    }
   ],
   "source": [
    "print(back[0].analyzers.TradeAnalyzer.get_analysis())"
   ]
  }
 ],
 "metadata": {
  "kernelspec": {
   "display_name": "Python 3",
   "language": "python",
   "name": "python3"
  },
  "language_info": {
   "codemirror_mode": {
    "name": "ipython",
    "version": 3
   },
   "file_extension": ".py",
   "mimetype": "text/x-python",
   "name": "python",
   "nbconvert_exporter": "python",
   "pygments_lexer": "ipython3",
   "version": "3.7.10"
  }
 },
 "nbformat": 4,
 "nbformat_minor": 5
}
