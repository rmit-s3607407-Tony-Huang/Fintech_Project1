{
 "cells": [
  {
   "cell_type": "code",
   "execution_count": 1,
   "id": "6020c6f7-bee5-4418-8c03-7da61b617b65",
   "metadata": {},
   "outputs": [],
   "source": [
    "# Import backtrader library\n",
    "import backtrader as bt\n",
    "from pathlib import Path\n",
    "import matplotlib.pyplot as plt\n",
    "from matplotlib import warnings\n",
    "# %matplotlib widget"
   ]
  },
  {
   "cell_type": "code",
   "execution_count": 2,
   "id": "520c4add-42ca-4c59-8694-ddf1c72e34da",
   "metadata": {},
   "outputs": [],
   "source": [
    "# Define a trading strategy\n",
    "class EMACrossStrategy(bt.Strategy):\n",
    "    params = {\n",
    "        ('ema1', 10),\n",
    "        ('ema2', 20),\n",
    "        ('atr', 14)\n",
    "    }\n",
    "    \n",
    "    def __init__(self):\n",
    "        self.ema1 = bt.indicators.EMA(period = self.params.ema1)\n",
    "        self.ema2 = bt.indicators.EMA(period = self.params.ema2)\n",
    "        self.atr = bt.indicators.ATR(period = self.params.atr)\n",
    "        \n",
    "        self.buy_condition = bt.indicators.CrossOver(self.ema1, self.ema2)\n",
    "        self.sell_condition = bt.indicators.CrossOver(self.ema2, self.ema1)\n",
    "        \n",
    "    def next(self):\n",
    "        if not self.position:\n",
    "            if self.buy_condition:\n",
    "                self.buy()\n",
    "                self.stop_loss = self.data.close[0] - self.params.atr\n",
    "                self.take_profit = self.data.close[0] + self.params.atr\n",
    "                \n",
    "            if self.sell_condition:\n",
    "                self.sell()\n",
    "                self.stop_loss = self.data.close[0] + self.params.atr\n",
    "                self.take_profit = self.data.close[0] - self.params.atr\n",
    "            \n",
    "        if self.position.size > 0:\n",
    "            if self.data.close > self.take_profit or self.data.close < self.stop_loss:\n",
    "                self.close()\n",
    "\n",
    "        if self.position.size < 0:\n",
    "            if self.data.close < self.take_profit or self.data.close > self.stop_loss:\n",
    "                self.close()\n",
    "        \n",
    "        "
   ]
  },
  {
   "cell_type": "code",
   "execution_count": 3,
   "id": "0551bd96-e47c-4103-8ad0-f1011b401d3b",
   "metadata": {},
   "outputs": [],
   "source": [
    "class MaCrossStrategy(bt.Strategy):\n",
    " \n",
    "    def __init__(self):\n",
    "        ma_fast = bt.ind.SMA(period = 10)\n",
    "        ma_slow = bt.ind.SMA(period = 50)\n",
    "         \n",
    "        self.crossover = bt.ind.CrossOver(ma_fast, ma_slow)\n",
    " \n",
    "    def next(self):\n",
    "        if not self.position:\n",
    "            if self.crossover > 0: \n",
    "                self.buy()\n",
    "        elif self.crossover < 0: \n",
    "            self.close()"
   ]
  },
  {
   "cell_type": "code",
   "execution_count": 4,
   "id": "851da39f-4222-427c-858a-2cd5b3870dbd",
   "metadata": {},
   "outputs": [],
   "source": [
    "file_path = Path(\"btc_1min_Aug.csv\")"
   ]
  },
  {
   "cell_type": "code",
   "execution_count": 5,
   "id": "002339d3-baaa-4fdb-a539-d171d85a5cf9",
   "metadata": {},
   "outputs": [],
   "source": [
    "cerebro = bt.Cerebro(maxcpus = None)\n",
    "cerebro.broker.setcash(10000000.0)\n",
    "data = bt.feeds.GenericCSVData(dataname=file_path, timeframe=bt.TimeFrame.Minutes)\n",
    "cerebro.adddata(data)\n",
    "cerebro.addstrategy(MaCrossStrategy)\n",
    "\n",
    "cerebro.addsizer(bt.sizers.PercentSizer, percents=1)\n",
    "cerebro.addanalyzer(bt.analyzers.SharpeRatio, _name = \"sharpe\")\n",
    "cerebro.addanalyzer(bt.analyzers.Transactions, _name = \"trans\")\n",
    "cerebro.addanalyzer(bt.analyzers.TradeAnalyzer,_name=\"TradeAnalyzer\")"
   ]
  },
  {
   "cell_type": "code",
   "execution_count": 6,
   "id": "c091f1d8-582b-43a4-8ced-fb6d91a3c2f3",
   "metadata": {},
   "outputs": [],
   "source": [
    "back = cerebro.run()"
   ]
  },
  {
   "cell_type": "code",
   "execution_count": 7,
   "id": "eff8aaa3-c2c5-4bbe-b3e2-6b72616ab52d",
   "metadata": {},
   "outputs": [
    {
     "data": {
      "text/plain": [
       "10000000.0"
      ]
     },
     "execution_count": 7,
     "metadata": {},
     "output_type": "execute_result"
    }
   ],
   "source": [
    "cerebro.broker.getvalue()"
   ]
  },
  {
   "cell_type": "code",
   "execution_count": 8,
   "id": "673a6e7e-7baf-48f0-ac98-e1f1b4bc80c1",
   "metadata": {},
   "outputs": [
    {
     "data": {
      "text/plain": [
       "OrderedDict([('sharperatio', None)])"
      ]
     },
     "execution_count": 8,
     "metadata": {},
     "output_type": "execute_result"
    }
   ],
   "source": [
    "back[0].analyzers.sharpe.get_analysis()"
   ]
  },
  {
   "cell_type": "code",
   "execution_count": 9,
   "id": "d4f36db9-75ff-40d7-866e-a1e20d2c5cac",
   "metadata": {},
   "outputs": [
    {
     "data": {
      "text/plain": [
       "0"
      ]
     },
     "execution_count": 9,
     "metadata": {},
     "output_type": "execute_result"
    }
   ],
   "source": [
    "len(back[0].analyzers.trans.get_analysis())"
   ]
  },
  {
   "cell_type": "code",
   "execution_count": 10,
   "id": "48f891d9-7085-4b4a-9ab8-12807ecbc351",
   "metadata": {},
   "outputs": [
    {
     "ename": "ImportError",
     "evalue": "cannot import name 'warnings' from 'matplotlib.dates' (C:\\Users\\Tony\\anaconda3\\lib\\site-packages\\matplotlib\\dates.py)",
     "output_type": "error",
     "traceback": [
      "\u001b[1;31m---------------------------------------------------------------------------\u001b[0m",
      "\u001b[1;31mImportError\u001b[0m                               Traceback (most recent call last)",
      "\u001b[1;32m~\\AppData\\Local\\Temp/ipykernel_17140/1093192993.py\u001b[0m in \u001b[0;36m<module>\u001b[1;34m\u001b[0m\n\u001b[0;32m      1\u001b[0m \u001b[0mget_ipython\u001b[0m\u001b[1;33m(\u001b[0m\u001b[1;33m)\u001b[0m\u001b[1;33m.\u001b[0m\u001b[0mrun_line_magic\u001b[0m\u001b[1;33m(\u001b[0m\u001b[1;34m'matplotlib'\u001b[0m\u001b[1;33m,\u001b[0m \u001b[1;34m'inline'\u001b[0m\u001b[1;33m)\u001b[0m\u001b[1;33m\u001b[0m\u001b[1;33m\u001b[0m\u001b[0m\n\u001b[1;32m----> 2\u001b[1;33m \u001b[0mcerebro\u001b[0m\u001b[1;33m.\u001b[0m\u001b[0mplot\u001b[0m\u001b[1;33m(\u001b[0m\u001b[1;33m)\u001b[0m\u001b[1;33m\u001b[0m\u001b[1;33m\u001b[0m\u001b[0m\n\u001b[0m",
      "\u001b[1;32m~\\anaconda3\\lib\\site-packages\\backtrader\\cerebro.py\u001b[0m in \u001b[0;36mplot\u001b[1;34m(self, plotter, numfigs, iplot, start, end, width, height, dpi, tight, use, **kwargs)\u001b[0m\n\u001b[0;32m    972\u001b[0m \u001b[1;33m\u001b[0m\u001b[0m\n\u001b[0;32m    973\u001b[0m         \u001b[1;32mif\u001b[0m \u001b[1;32mnot\u001b[0m \u001b[0mplotter\u001b[0m\u001b[1;33m:\u001b[0m\u001b[1;33m\u001b[0m\u001b[1;33m\u001b[0m\u001b[0m\n\u001b[1;32m--> 974\u001b[1;33m             \u001b[1;32mfrom\u001b[0m \u001b[1;33m.\u001b[0m \u001b[1;32mimport\u001b[0m \u001b[0mplot\u001b[0m\u001b[1;33m\u001b[0m\u001b[1;33m\u001b[0m\u001b[0m\n\u001b[0m\u001b[0;32m    975\u001b[0m             \u001b[1;32mif\u001b[0m \u001b[0mself\u001b[0m\u001b[1;33m.\u001b[0m\u001b[0mp\u001b[0m\u001b[1;33m.\u001b[0m\u001b[0moldsync\u001b[0m\u001b[1;33m:\u001b[0m\u001b[1;33m\u001b[0m\u001b[1;33m\u001b[0m\u001b[0m\n\u001b[0;32m    976\u001b[0m                 \u001b[0mplotter\u001b[0m \u001b[1;33m=\u001b[0m \u001b[0mplot\u001b[0m\u001b[1;33m.\u001b[0m\u001b[0mPlot_OldSync\u001b[0m\u001b[1;33m(\u001b[0m\u001b[1;33m**\u001b[0m\u001b[0mkwargs\u001b[0m\u001b[1;33m)\u001b[0m\u001b[1;33m\u001b[0m\u001b[1;33m\u001b[0m\u001b[0m\n",
      "\u001b[1;32m~\\anaconda3\\lib\\site-packages\\backtrader\\plot\\__init__.py\u001b[0m in \u001b[0;36m<module>\u001b[1;34m\u001b[0m\n\u001b[0;32m     40\u001b[0m \u001b[1;33m\u001b[0m\u001b[0m\n\u001b[0;32m     41\u001b[0m \u001b[1;33m\u001b[0m\u001b[0m\n\u001b[1;32m---> 42\u001b[1;33m \u001b[1;32mfrom\u001b[0m \u001b[1;33m.\u001b[0m\u001b[0mplot\u001b[0m \u001b[1;32mimport\u001b[0m \u001b[0mPlot\u001b[0m\u001b[1;33m,\u001b[0m \u001b[0mPlot_OldSync\u001b[0m\u001b[1;33m\u001b[0m\u001b[1;33m\u001b[0m\u001b[0m\n\u001b[0m\u001b[0;32m     43\u001b[0m \u001b[1;32mfrom\u001b[0m \u001b[1;33m.\u001b[0m\u001b[0mscheme\u001b[0m \u001b[1;32mimport\u001b[0m \u001b[0mPlotScheme\u001b[0m\u001b[1;33m\u001b[0m\u001b[1;33m\u001b[0m\u001b[0m\n",
      "\u001b[1;32m~\\anaconda3\\lib\\site-packages\\backtrader\\plot\\plot.py\u001b[0m in \u001b[0;36m<module>\u001b[1;34m\u001b[0m\n\u001b[0;32m     42\u001b[0m \u001b[1;32mfrom\u001b[0m \u001b[1;33m.\u001b[0m\u001b[0mfinance\u001b[0m \u001b[1;32mimport\u001b[0m \u001b[0mplot_candlestick\u001b[0m\u001b[1;33m,\u001b[0m \u001b[0mplot_ohlc\u001b[0m\u001b[1;33m,\u001b[0m \u001b[0mplot_volume\u001b[0m\u001b[1;33m,\u001b[0m \u001b[0mplot_lineonclose\u001b[0m\u001b[1;33m\u001b[0m\u001b[1;33m\u001b[0m\u001b[0m\n\u001b[0;32m     43\u001b[0m \u001b[1;32mfrom\u001b[0m \u001b[1;33m.\u001b[0m\u001b[0mformatters\u001b[0m \u001b[1;32mimport\u001b[0m \u001b[1;33m(\u001b[0m\u001b[0mMyVolFormatter\u001b[0m\u001b[1;33m,\u001b[0m \u001b[0mMyDateFormatter\u001b[0m\u001b[1;33m,\u001b[0m \u001b[0mgetlocator\u001b[0m\u001b[1;33m)\u001b[0m\u001b[1;33m\u001b[0m\u001b[1;33m\u001b[0m\u001b[0m\n\u001b[1;32m---> 44\u001b[1;33m \u001b[1;32mfrom\u001b[0m \u001b[1;33m.\u001b[0m \u001b[1;32mimport\u001b[0m \u001b[0mlocator\u001b[0m \u001b[1;32mas\u001b[0m \u001b[0mloc\u001b[0m\u001b[1;33m\u001b[0m\u001b[1;33m\u001b[0m\u001b[0m\n\u001b[0m\u001b[0;32m     45\u001b[0m \u001b[1;32mfrom\u001b[0m \u001b[1;33m.\u001b[0m\u001b[0mmulticursor\u001b[0m \u001b[1;32mimport\u001b[0m \u001b[0mMultiCursor\u001b[0m\u001b[1;33m\u001b[0m\u001b[1;33m\u001b[0m\u001b[0m\n\u001b[0;32m     46\u001b[0m \u001b[1;32mfrom\u001b[0m \u001b[1;33m.\u001b[0m\u001b[0mscheme\u001b[0m \u001b[1;32mimport\u001b[0m \u001b[0mPlotScheme\u001b[0m\u001b[1;33m\u001b[0m\u001b[1;33m\u001b[0m\u001b[0m\n",
      "\u001b[1;32m~\\anaconda3\\lib\\site-packages\\backtrader\\plot\\locator.py\u001b[0m in \u001b[0;36m<module>\u001b[1;34m\u001b[0m\n\u001b[0;32m     33\u001b[0m \u001b[1;32mfrom\u001b[0m \u001b[0mmatplotlib\u001b[0m\u001b[1;33m.\u001b[0m\u001b[0mdates\u001b[0m \u001b[1;32mimport\u001b[0m \u001b[0mAutoDateFormatter\u001b[0m \u001b[1;32mas\u001b[0m \u001b[0mADFormatter\u001b[0m\u001b[1;33m\u001b[0m\u001b[1;33m\u001b[0m\u001b[0m\n\u001b[0;32m     34\u001b[0m \u001b[1;33m\u001b[0m\u001b[0m\n\u001b[1;32m---> 35\u001b[1;33m from matplotlib.dates import (HOURS_PER_DAY, MIN_PER_HOUR, SEC_PER_MIN,\n\u001b[0m\u001b[0;32m     36\u001b[0m                               \u001b[0mMONTHS_PER_YEAR\u001b[0m\u001b[1;33m,\u001b[0m \u001b[0mDAYS_PER_WEEK\u001b[0m\u001b[1;33m,\u001b[0m\u001b[1;33m\u001b[0m\u001b[1;33m\u001b[0m\u001b[0m\n\u001b[0;32m     37\u001b[0m                               \u001b[0mSEC_PER_HOUR\u001b[0m\u001b[1;33m,\u001b[0m \u001b[0mSEC_PER_DAY\u001b[0m\u001b[1;33m,\u001b[0m\u001b[1;33m\u001b[0m\u001b[1;33m\u001b[0m\u001b[0m\n",
      "\u001b[1;31mImportError\u001b[0m: cannot import name 'warnings' from 'matplotlib.dates' (C:\\Users\\Tony\\anaconda3\\lib\\site-packages\\matplotlib\\dates.py)"
     ]
    }
   ],
   "source": [
    "# %matplotlib inline\n",
    "cerebro.plot()"
   ]
  }
 ],
 "metadata": {
  "kernelspec": {
   "display_name": "Python 3 (ipykernel)",
   "language": "python",
   "name": "python3"
  },
  "language_info": {
   "codemirror_mode": {
    "name": "ipython",
    "version": 3
   },
   "file_extension": ".py",
   "mimetype": "text/x-python",
   "name": "python",
   "nbconvert_exporter": "python",
   "pygments_lexer": "ipython3",
   "version": "3.8.8"
  }
 },
 "nbformat": 4,
 "nbformat_minor": 5
}
