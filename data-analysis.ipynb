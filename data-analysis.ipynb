{
 "cells": [
  {
   "cell_type": "code",
   "execution_count": 9,
   "id": "fbbb4c46-69fd-41d1-a155-257a9783a5cc",
   "metadata": {},
   "outputs": [
    {
     "name": "stdout",
     "output_type": "stream",
     "text": [
      "[[1631041200000, '46922.02000000', '47240.04000000', '46515.68000000', '46694.59000000', '2513.80486000', 1631044799999, '117936708.87113800', 83161, '1220.24093000', '57254878.72015970', '0']]\n"
     ]
    }
   ],
   "source": [
    "# import required libraries\n",
    "\n",
    "# for handling data retrieval from Binance Exchange\n",
    "import binance\n",
    "from binance.client import Client\n",
    "\n",
    "import requests\n",
    "\n",
    "url = 'https://api.binance.com/api/v3/klines'\n",
    "params = {\n",
    "  'symbol': 'BTCUSDT',\n",
    "  'interval': '1h',\n",
    "  'startTime': 1631041200000,\n",
    "  'endTime':1631044799999\n",
    "\n",
    "}\n",
    "response = requests.get(url, params=params)\n",
    "print(response.json())"
   ]
  },
  {
   "cell_type": "code",
   "execution_count": null,
   "id": "3a7f4605-1990-4db5-9160-ea62dc57e115",
   "metadata": {},
   "outputs": [],
   "source": [
    "# This is for checking the library location\n",
    "# print(binance.__file__)"
   ]
  }
 ],
 "metadata": {
  "kernelspec": {
   "display_name": "Python 3",
   "language": "python",
   "name": "python3"
  },
  "language_info": {
   "codemirror_mode": {
    "name": "ipython",
    "version": 3
   },
   "file_extension": ".py",
   "mimetype": "text/x-python",
   "name": "python",
   "nbconvert_exporter": "python",
   "pygments_lexer": "ipython3",
   "version": "3.8.8"
  }
 },
 "nbformat": 4,
 "nbformat_minor": 5
}
